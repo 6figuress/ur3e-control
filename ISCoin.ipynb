{
 "cells": [
  {
   "cell_type": "markdown",
   "metadata": {},
   "source": [
    "# ISCoin superclass tests"
   ]
  },
  {
   "cell_type": "code",
   "execution_count": 1,
   "metadata": {},
   "outputs": [],
   "source": [
    "# Config Jupyter to force reload modules (DEV only)\n",
    "%load_ext autoreload\n",
    "%autoreload 2"
   ]
  },
  {
   "cell_type": "code",
   "execution_count": null,
   "metadata": {},
   "outputs": [],
   "source": [
    "from urbasic import ISCoin\n",
    "\n",
    "# Create a new ISCoin object\n",
    "# UR3e1 IP (closest to window): 10.30.5.158\n",
    "# UR3e2 IP: 10.30.5.159\n",
    "iscoin = ISCoin(host=\"10.30.5.159\", opened_gripper_size_mm=40)"
   ]
  },
  {
   "cell_type": "markdown",
   "metadata": {},
   "source": [
    "## Robot control"
   ]
  },
  {
   "cell_type": "code",
   "execution_count": null,
   "metadata": {},
   "outputs": [],
   "source": [
    "print(f'TCP:    {iscoin.robot_control.get_actual_tcp_pose()}')\n",
    "print(f'Joints: {iscoin.robot_control.get_actual_joint_positions()}')\n",
    "#print(f'Force:    {iscoin.robot_control.get_tcp_force()}')"
   ]
  },
  {
   "cell_type": "code",
   "execution_count": 4,
   "metadata": {},
   "outputs": [],
   "source": [
    "import json\n",
    "# function to read a simulation json and read it to control the robot\n",
    "def readJson(path):\n",
    "\tpoints = []\n",
    "\twith open(path, 'r') as file:\n",
    "\t\tdata = json.load(file)[\"modTraj\"]\n",
    "\t\tfor i in data:\n",
    "\t\t\tpoints.append(i['positions'])\n",
    "\treturn points"
   ]
  },
  {
   "cell_type": "code",
   "execution_count": null,
   "metadata": {},
   "outputs": [],
   "source": [
    "waypoints = readJson(\"./traj_Z_fast.json\")\n",
    "print(waypoints)"
   ]
  },
  {
   "cell_type": "code",
   "execution_count": null,
   "metadata": {},
   "outputs": [],
   "source": [
    "from math import radians\n",
    "from urbasic import Joint6D\n",
    "# Reset any potential error\n",
    "iscoin.robot_control.reset_error()\n",
    "\n",
    "jsonPath = \"./traj_side_slow.json\"\n",
    "waypoints = readJson(jsonPath)\n",
    "\n",
    "for i in waypoints:\n",
    "\tjo = Joint6D.createFromRadList(i)\n",
    "\t#print(f'Joints are at {\"iscoin.robot_control.get_actual_joint_positions()\"} - going to {jo}')\n",
    "\tiscoin.robot_control.movej(jo, a = radians(80), v = radians(30))"
   ]
  },
  {
   "cell_type": "code",
   "execution_count": null,
   "metadata": {},
   "outputs": [],
   "source": [
    "jsonPath = \"./traj_side_slow.json\"\n",
    "waypoints = readJson(jsonPath)\n",
    "i = waypoints[26]\n",
    "jo = Joint6D.createFromRadList(i)\n",
    "#print(f'Joints are at {\"iscoin.robot_control.get_actual_joint_positions()\"} - going to {jo}')\n",
    "iscoin.robot_control.movej(jo, a = radians(80), v = radians(30))"
   ]
  },
  {
   "cell_type": "markdown",
   "metadata": {},
   "source": [
    "## Gripper"
   ]
  },
  {
   "cell_type": "code",
   "execution_count": 5,
   "metadata": {},
   "outputs": [
    {
     "data": {
      "text/plain": [
       "True"
      ]
     },
     "execution_count": 5,
     "metadata": {},
     "output_type": "execute_result"
    }
   ],
   "source": [
    "# Needed only once\n",
    "iscoin.gripper.activate()"
   ]
  },
  {
   "cell_type": "code",
   "execution_count": 6,
   "metadata": {},
   "outputs": [],
   "source": [
    "from time import sleep\n",
    "if not iscoin.gripper.open():\n",
    "  print(\"Failed to open gripper\")\n",
    "else:\n",
    "  sleep(1)\n",
    "  if not iscoin.gripper.close():\n",
    "    print(\"Failed to close gripper\")"
   ]
  },
  {
   "cell_type": "code",
   "execution_count": 8,
   "metadata": {},
   "outputs": [
    {
     "data": {
      "text/plain": [
       "True"
      ]
     },
     "execution_count": 8,
     "metadata": {},
     "output_type": "execute_result"
    }
   ],
   "source": [
    "iscoin.gripper.deactivate()"
   ]
  },
  {
   "cell_type": "markdown",
   "metadata": {},
   "source": [
    "## Camera"
   ]
  },
  {
   "cell_type": "code",
   "execution_count": 9,
   "metadata": {},
   "outputs": [],
   "source": [
    "iscoin.displayCameraOCV()"
   ]
  },
  {
   "cell_type": "code",
   "execution_count": 10,
   "metadata": {},
   "outputs": [],
   "source": [
    "iscoin.displayCameraStreamOCV()"
   ]
  },
  {
   "cell_type": "code",
   "execution_count": 11,
   "metadata": {},
   "outputs": [],
   "source": [
    "# END"
   ]
  }
 ],
 "metadata": {
  "kernelspec": {
   "display_name": ".venv",
   "language": "python",
   "name": "python3"
  },
  "language_info": {
   "codemirror_mode": {
    "name": "ipython",
    "version": 3
   },
   "file_extension": ".py",
   "mimetype": "text/x-python",
   "name": "python",
   "nbconvert_exporter": "python",
   "pygments_lexer": "ipython3",
   "version": "3.10.0"
  }
 },
 "nbformat": 4,
 "nbformat_minor": 2
}
