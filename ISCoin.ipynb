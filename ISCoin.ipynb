{
 "cells": [
  {
   "cell_type": "markdown",
   "metadata": {},
   "source": [
    "# ISCoin superclass tests"
   ]
  },
  {
   "cell_type": "code",
   "execution_count": 1,
   "metadata": {},
   "outputs": [],
   "source": [
    "# Config Jupyter to force reload modules (DEV only)\n",
    "%load_ext autoreload\n",
    "%autoreload 2"
   ]
  },
  {
   "cell_type": "code",
   "execution_count": null,
   "metadata": {},
   "outputs": [],
   "source": [
    "from URBasic import ISCoin\n",
    "\n",
    "# Create a new ISCoin object\n",
    "# UR3e1 IP (closest to window): 10.30.5.158\n",
    "# UR3e2 IP: 10.30.5.159\n",
    "iscoin = ISCoin(host=\"10.30.5.159\", opened_gripper_size_mm=40)"
   ]
  },
  {
   "cell_type": "markdown",
   "metadata": {},
   "source": [
    "## Robot control"
   ]
  },
  {
   "cell_type": "code",
   "execution_count": null,
   "metadata": {},
   "outputs": [],
   "source": [
    "print(f'TCP:    {iscoin.robot_control.get_actual_tcp_pose()}')\n",
    "print(f'Joints: {iscoin.robot_control.get_actual_joint_positions()}')"
   ]
  },
  {
   "cell_type": "code",
   "execution_count": null,
   "metadata": {},
   "outputs": [],
   "source": [
    "from urbasic.URBasic import Joint6D\n",
    "\n",
    "# function to create a joint6D from a list of angles [rad]. This is very makeshift and will be done in Joint6D directly when i have the time\n",
    "def tabRadToJoint6D(tab):\n",
    "\tj1 = tab[0]\n",
    "\tj2 = tab[1]\n",
    "\tj3 = tab[2]\n",
    "\tj4 = tab[3]\n",
    "\tj5 = tab[4]\n",
    "\tj6 = tab[5]\n",
    "\treturn Joint6D.createFromRadians(j1,j2,j3,j4,j5,j6)\n",
    "\n",
    "# function to create a joint6D from a list of angles [degrees]. This is very makeshift and will be done in Joint6D directly when i have the time\n",
    "def tabDegToJoint6D(tab):\n",
    "\tj1 = tab[0]\n",
    "\tj2 = tab[1]\n",
    "\tj3 = tab[2]\n",
    "\tj4 = tab[3]\n",
    "\tj5 = tab[4]\n",
    "\tj6 = tab[5]\n",
    "\treturn Joint6D.createFromDegrees(j1,j2,j3,j4,j5,j6)\n",
    "\n",
    "#print(tabRadToJoint6D([0.938812605, -1.638340569, 1.336573141, -1.271646893, -1.566956602, 1.10915674]))\n",
    "#print(tabDegToJoint6D([52.18, -85.32, 66.38, -71.21, -89.80, 61.93]))"
   ]
  },
  {
   "cell_type": "code",
   "execution_count": null,
   "metadata": {},
   "outputs": [],
   "source": [
    "from math import radians\n",
    "from URBasic import Joint6D\n",
    "# Reset any potential error\n",
    "iscoin.robot_control.reset_error()\n",
    "\n",
    "# Move joints into positions\n",
    "waypoints = [Joint6D.createFromRadians(0.0, -1.5707, 0.1, -1.5707, 0.0, 0.0),\n",
    "\t\t\t Joint6D.createFromRadians(0.801455193, -1.577952177, 1.278802743, -1.274264887, -1.567131135, 0.971799328),\n",
    "\t\t\t Joint6D.createFromRadians(0.938812605, -1.638340569, 1.336573141, -1.271646893, -1.566956602, 1.10915674),\n",
    "\t\t\t Joint6D.createFromRadians(0.895702972, -1.345299787, 1.013861762, -1.241976296, -1.567829267, 1.075297352),\n",
    "\t\t\t Joint6D.createFromRadians(1.034631181, -1.405862712, 1.089783585, -1.257335193, -1.567654734, 1.214400094),\n",
    "\t\t\t Joint6D.createFromRadians(0.0, -1.5707, 0.1, -1.5707, 0.0, 0.0)]\n",
    "#waypoints = [Joint6D.createFromRadians(1.586406, -1.249279, 0.533972, -0.463469, -0.884159, 1.045896), Joint6D.createFromRadians(1.586772, -1.249092, 0.533677, -0.447469, 0.667511, 1.045982)]\n",
    "\n",
    "for i in waypoints:\n",
    "\tprint(f'Joints are at {iscoin.robot_control.get_actual_joint_positions()} - going to {i}')\n",
    "\tiscoin.robot_control.movej(i, a = radians(80), v = radians(30))\n"
   ]
  },
  {
   "cell_type": "markdown",
   "metadata": {},
   "source": [
    "## Gripper"
   ]
  },
  {
   "cell_type": "code",
   "execution_count": 5,
   "metadata": {},
   "outputs": [
    {
     "data": {
      "text/plain": [
       "True"
      ]
     },
     "execution_count": 5,
     "metadata": {},
     "output_type": "execute_result"
    }
   ],
   "source": [
    "# Needed only once\n",
    "iscoin.gripper.activate()"
   ]
  },
  {
   "cell_type": "code",
   "execution_count": 6,
   "metadata": {},
   "outputs": [],
   "source": [
    "from time import sleep\n",
    "if not iscoin.gripper.open():\n",
    "  print(\"Failed to open gripper\")\n",
    "else:\n",
    "  sleep(1)\n",
    "  if not iscoin.gripper.close():\n",
    "    print(\"Failed to close gripper\")"
   ]
  },
  {
   "cell_type": "code",
   "execution_count": 8,
   "metadata": {},
   "outputs": [
    {
     "data": {
      "text/plain": [
       "True"
      ]
     },
     "execution_count": 8,
     "metadata": {},
     "output_type": "execute_result"
    }
   ],
   "source": [
    "iscoin.gripper.deactivate()"
   ]
  },
  {
   "cell_type": "markdown",
   "metadata": {},
   "source": [
    "## Camera"
   ]
  },
  {
   "cell_type": "code",
   "execution_count": 9,
   "metadata": {},
   "outputs": [],
   "source": [
    "iscoin.displayCameraOCV()"
   ]
  },
  {
   "cell_type": "code",
   "execution_count": 10,
   "metadata": {},
   "outputs": [],
   "source": [
    "iscoin.displayCameraStreamOCV()"
   ]
  },
  {
   "cell_type": "code",
   "execution_count": 11,
   "metadata": {},
   "outputs": [],
   "source": [
    "# END"
   ]
  }
 ],
 "metadata": {
  "kernelspec": {
   "display_name": ".venv",
   "language": "python",
   "name": "python3"
  },
  "language_info": {
   "codemirror_mode": {
    "name": "ipython",
    "version": 3
   },
   "file_extension": ".py",
   "mimetype": "text/x-python",
   "name": "python",
   "nbconvert_exporter": "python",
   "pygments_lexer": "ipython3",
   "version": "3.10.0"
  }
 },
 "nbformat": 4,
 "nbformat_minor": 2
}
