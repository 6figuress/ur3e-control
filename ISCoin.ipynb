{
 "cells": [
  {
   "cell_type": "markdown",
   "metadata": {},
   "source": [
    "# ISCoin superclass tests"
   ]
  },
  {
   "cell_type": "code",
   "execution_count": 1,
   "metadata": {},
   "outputs": [],
   "source": [
    "# Config Jupyter to force reload modules (DEV only)\n",
    "%load_ext autoreload\n",
    "%autoreload 2"
   ]
  },
  {
   "cell_type": "code",
   "execution_count": 2,
   "metadata": {},
   "outputs": [
    {
     "name": "stderr",
     "output_type": "stream",
     "text": [
      "2025-02-24 09:33:57,581,581 | ISCoin - 10.30.5.158 | DEBUG    [iscoin.py:59] Initializing devices in constructor\n",
      "2025-02-24 09:33:57,583,583 | ISCoin - 10.30.5.158 | INFO     [iscoin.py:106] Reinitializing devices with IP 10.30.5.158\n",
      " * Robot model\n",
      "2025-02-24 09:33:57,584,584 | ISCoin - 10.30.5.158 | INFO     [iscoin.py:108]  * URScriptExt\n",
      "2025-02-24 09:33:59,191,191 | ISCoin - 10.30.5.158 | INFO     [iscoin.py:110]  * RobotiqTwoFingersGripper\n",
      "2025-02-24 09:33:59,194,194 | ISCoin - 10.30.5.158 | INFO     [iscoin.py:112]  * RobotiqWristCamera\n",
      "2025-02-24 09:33:59,196,196 | ISCoin - 10.30.5.158 | INFO     [iscoin.py:114]  *** Devices initialized\n"
     ]
    }
   ],
   "source": [
    "from URBasic import ISCoin\n",
    "\n",
    "# Create a new ISCoin object\n",
    "# UR3e1 IP (closest to window): 10.30.5.158\n",
    "# UR3e2 IP: 10.30.5.159\n",
    "iscoin = ISCoin(host=\"10.30.5.158\", opened_gripper_size_mm=40)"
   ]
  },
  {
   "cell_type": "markdown",
   "metadata": {},
   "source": [
    "## Robot control"
   ]
  },
  {
   "cell_type": "code",
   "execution_count": 3,
   "metadata": {},
   "outputs": [
    {
     "name": "stdout",
     "output_type": "stream",
     "text": [
      "TCP:    TCP6D([-0.12354035675278618, -0.38458555375881753, 0.31683917121929484, -0.10769391640652619, -3.13786670832971, -0.01242479938878734])\n",
      "Joints: Joint6D([-1.5473020712481897, -1.9327970943846644, -1.0744229555130005, -1.7105843029417933, 1.577850103378296, 0.08735296875238419])\n"
     ]
    }
   ],
   "source": [
    "print(f'TCP:    {iscoin.robot_control.get_actual_tcp_pose()}')\n",
    "print(f'Joints: {iscoin.robot_control.get_actual_joint_positions()}')"
   ]
  },
  {
   "cell_type": "code",
   "execution_count": 4,
   "metadata": {},
   "outputs": [
    {
     "name": "stdout",
     "output_type": "stream",
     "text": [
      "Joints are at Joint6D([-1.5473020712481897, -1.9327804050841273, -1.074429988861084, -1.710613866845602, 1.577862024307251, 0.08729918301105499]) - going to Joint6D([1.586406, -1.249279, 0.533972, -0.463469, -0.884159, 1.045896])\n",
      "Joints are at Joint6D([1.5863299369812012, -1.2494397920421143, 0.5338547865497034, -0.46366532266650395, -0.8841102758990687, 1.0457878112792969]) - going to Joint6D([1.586772, -1.249092, 0.533677, -0.447469, 0.667511, 1.045982])\n"
     ]
    }
   ],
   "source": [
    "from math import radians\n",
    "from URBasic import Joint6D\n",
    "# Reset any potential error\n",
    "iscoin.robot_control.reset_error()\n",
    "\n",
    "# Move joints into positions\n",
    "waypoints = [Joint6D.createFromRadians(1.586406, -1.249279, 0.533972, -0.463469, -0.884159, 1.045896), Joint6D.createFromRadians(1.586772, -1.249092, 0.533677, -0.447469, 0.667511, 1.045982)]\n",
    "print(f'Joints are at {iscoin.robot_control.get_actual_joint_positions()} - going to {waypoints[0]}')\n",
    "iscoin.robot_control.movej(waypoints[0], a = radians(80), v = radians(60))\n",
    "print(f'Joints are at {iscoin.robot_control.get_actual_joint_positions()} - going to {waypoints[1]}')\n",
    "iscoin.robot_control.movej(waypoints[1], a = radians(80), v = radians(60))"
   ]
  },
  {
   "cell_type": "markdown",
   "metadata": {},
   "source": [
    "## Gripper"
   ]
  },
  {
   "cell_type": "code",
   "execution_count": 5,
   "metadata": {},
   "outputs": [
    {
     "data": {
      "text/plain": [
       "True"
      ]
     },
     "execution_count": 5,
     "metadata": {},
     "output_type": "execute_result"
    }
   ],
   "source": [
    "# Needed only once\n",
    "iscoin.gripper.activate()"
   ]
  },
  {
   "cell_type": "code",
   "execution_count": 6,
   "metadata": {},
   "outputs": [],
   "source": [
    "from time import sleep\n",
    "if not iscoin.gripper.open():\n",
    "  print(\"Failed to open gripper\")\n",
    "else:\n",
    "  sleep(1)\n",
    "  if not iscoin.gripper.close():\n",
    "    print(\"Failed to close gripper\")"
   ]
  },
  {
   "cell_type": "code",
   "execution_count": 8,
   "metadata": {},
   "outputs": [
    {
     "data": {
      "text/plain": [
       "True"
      ]
     },
     "execution_count": 8,
     "metadata": {},
     "output_type": "execute_result"
    }
   ],
   "source": [
    "iscoin.gripper.deactivate()"
   ]
  },
  {
   "cell_type": "markdown",
   "metadata": {},
   "source": [
    "## Camera"
   ]
  },
  {
   "cell_type": "code",
   "execution_count": 9,
   "metadata": {},
   "outputs": [],
   "source": [
    "iscoin.displayCameraOCV()"
   ]
  },
  {
   "cell_type": "code",
   "execution_count": 10,
   "metadata": {},
   "outputs": [],
   "source": [
    "iscoin.displayCameraStreamOCV()"
   ]
  },
  {
   "cell_type": "code",
   "execution_count": 11,
   "metadata": {},
   "outputs": [],
   "source": [
    "# END"
   ]
  }
 ],
 "metadata": {
  "kernelspec": {
   "display_name": "iscoin-KAm6-cic-py3.10",
   "language": "python",
   "name": "python3"
  },
  "language_info": {
   "codemirror_mode": {
    "name": "ipython",
    "version": 3
   },
   "file_extension": ".py",
   "mimetype": "text/x-python",
   "name": "python",
   "nbconvert_exporter": "python",
   "pygments_lexer": "ipython3",
   "version": "3.10.12"
  }
 },
 "nbformat": 4,
 "nbformat_minor": 2
}
