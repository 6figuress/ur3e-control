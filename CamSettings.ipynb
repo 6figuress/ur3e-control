{
 "cells": [
  {
   "cell_type": "markdown",
   "metadata": {},
   "source": [
    "# Test access to vision_server and rq_xmlrpcserver"
   ]
  },
  {
   "cell_type": "code",
   "execution_count": null,
   "metadata": {},
   "outputs": [],
   "source": [
    "import requests\n",
    "from typing import Tuple\n",
    "\n",
    "def get_vs(uri) -> Tuple[str, dict]:\n",
    "  response = requests.get(\"http://10.30.5.158:4242/\" + uri)\n",
    "  response.raise_for_status()\n",
    "  return response.json()"
   ]
  },
  {
   "cell_type": "code",
   "execution_count": null,
   "metadata": {},
   "outputs": [],
   "source": [
    "# XMLRPC client to connect and list methods from 10.30.5.158:4242\n",
    "import requests\n",
    "import xmlrpc.client\n",
    "import json\n",
    "\n",
    "# rq_xmlrpcserver\n",
    "print(\"rq_xmlrpcserver\")\n",
    "with xmlrpc.client.ServerProxy(\"http://10.30.5.158:4250/\") as proxy:\n",
    "  try:\n",
    "    print(proxy.getserverversion())\n",
    "  except xmlrpc.client.Fault as err:\n",
    "    print(\"A fault occurred\")\n",
    "    print(\"Fault code: %d\" % err.faultCode)\n",
    "    print(\"Fault string: %s\" % err.faultString)\n",
    "    \n",
    "# vision_server\n",
    "print(\"\\n\\nvision_server\")\n",
    "for cmd in [\n",
    "    'getcamerasettings', \n",
    "    # 'setcamerasettings', 'setdefaultcamerasettings',\n",
    "    # 'status', 'getbarcodelicense', 'hello',\n",
    "    # 'create', 'resetzoomregion', 'setdisplaysize', 'process',\n",
    "    # 'trigger', 'triggerinprogress', 'resetserverstate',\n",
    "    # 'beginbarcode', 'rejectmodule', 'endoperationmode', 'streamoutmodule',\n",
    "    # 'beginoperationmode', 'endoperationmode', 'streaminmodule', \n",
    "    \n",
    "  ]:\n",
    "  try:\n",
    "    print(f'{cmd}:\\n{json.dumps(get_vs(cmd), indent=2, sort_keys=True)}')\n",
    "  except requests.exceptions.HTTPError as err:\n",
    "    print(\"HTTP error occurred: %s\" % err)\n",
    "  except Exception as err:\n",
    "    print(\"Other error occurred: %s\" % err)\n"
   ]
  },
  {
   "cell_type": "markdown",
   "metadata": {},
   "source": [
    "# Check changes and keys in camera settings"
   ]
  },
  {
   "cell_type": "code",
   "execution_count": null,
   "metadata": {},
   "outputs": [],
   "source": [
    "valbef = None"
   ]
  },
  {
   "cell_type": "code",
   "execution_count": null,
   "metadata": {},
   "outputs": [],
   "source": [
    "import copy\n",
    "\n",
    "vals = get_vs('getcamerasettings')\n",
    "\n",
    "# Print all values different from valbef\n",
    "print('Diff with last values:')\n",
    "if valbef is None:\n",
    "  print(vals)\n",
    "else:\n",
    "  for key in vals['cameraSettings']:\n",
    "    if vals['cameraSettings'][key] != valbef['cameraSettings'][key]:\n",
    "      print(f'{key}: {vals[\"cameraSettings\"][key]}')\n",
    "      \n",
    "# Print all keys contianing 'focus\n",
    "kw = 'focus'\n",
    "print(f'\\nKeys containing {kw}:')\n",
    "for key in vals['cameraSettings']:\n",
    "  if kw in key:\n",
    "    print(f'{key}: {vals[\"cameraSettings\"][key]}')\n",
    "\n",
    "valbef = copy.copy(vals)"
   ]
  },
  {
   "cell_type": "markdown",
   "metadata": {},
   "source": [
    "# Setup and test settings"
   ]
  },
  {
   "cell_type": "code",
   "execution_count": null,
   "metadata": {},
   "outputs": [],
   "source": [
    "# Config Jupyter to force reload modules (DEV only)\n",
    "%load_ext autoreload\n",
    "%autoreload 2"
   ]
  },
  {
   "cell_type": "code",
   "execution_count": null,
   "metadata": {},
   "outputs": [],
   "source": [
    "from URBasic import ISCoin, CameraSettings\n",
    "iscoin = ISCoin(host=\"10.30.5.158\", opened_gripper_size_mm=40)\n",
    "iscoin.camera.resetCameraSettings()"
   ]
  },
  {
   "cell_type": "code",
   "execution_count": null,
   "metadata": {},
   "outputs": [],
   "source": [
    "from URBasic import RobotiqWristCamera\n",
    "iscoin.displayCameraStreamOCVParallel() # RobotiqWristCamera.ImageType.MAGNITUDE)"
   ]
  },
  {
   "cell_type": "code",
   "execution_count": null,
   "metadata": {},
   "outputs": [],
   "source": [
    "# Plays with camera LEDs\n",
    "from time import sleep\n",
    "\n",
    "cs = CameraSettings()\n",
    "while(True):\n",
    "  for i in range(0,11):\n",
    "    print(f'Setting manual mode to {10*i}')\n",
    "    cs.lightingSettings.setManualMode(10*i)\n",
    "    # Actually send changes\n",
    "    if not iscoin.camera.setCameraSettings(cs):\n",
    "      print('Error setting camera settings')\n",
    "      break\n",
    "    sleep(0.2)\n",
    "  print('Setting off mode')\n",
    "  cs.lightingSettings.setOffMode()\n",
    "  iscoin.camera.setCameraSettings(cs)\n",
    "  sleep(3)"
   ]
  },
  {
   "cell_type": "code",
   "execution_count": null,
   "metadata": {},
   "outputs": [],
   "source": [
    "# Greenish tone\n",
    "cs = CameraSettings()\n",
    "cs.whiteBalanceSettings.setManualMode(2000, 4000, 2000)\n",
    "iscoin.camera.setCameraSettings(cs)"
   ]
  },
  {
   "cell_type": "code",
   "execution_count": null,
   "metadata": {},
   "outputs": [],
   "source": [
    "# Reset\n",
    "cs = CameraSettings()\n",
    "iscoin.camera.resetCameraSettings()"
   ]
  }
 ],
 "metadata": {
  "kernelspec": {
   "display_name": "ISCoin-venv",
   "language": "python",
   "name": "python3"
  },
  "language_info": {
   "codemirror_mode": {
    "name": "ipython",
    "version": 3
   },
   "file_extension": ".py",
   "mimetype": "text/x-python",
   "name": "python",
   "nbconvert_exporter": "python",
   "pygments_lexer": "ipython3",
   "version": "3.10.11"
  }
 },
 "nbformat": 4,
 "nbformat_minor": 2
}
